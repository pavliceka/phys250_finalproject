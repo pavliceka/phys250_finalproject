{
 "cells": [
  {
   "cell_type": "markdown",
   "id": "b58aa4d9",
   "metadata": {},
   "source": [
    "## Code for Final Project: Phys 25000 Computational Physics"
   ]
  },
  {
   "cell_type": "markdown",
   "id": "7db2a64a",
   "metadata": {},
   "source": [
    "#### Creating A Restricted Hartree-Fock SCF Function & Generating Potential Energy Curves \n",
    "Author: Abby Pavlicek\n",
    "\n",
    "Credits: Ruhee D'Cunha, Laura Gagliardi, people on Github TBD"
   ]
  },
  {
   "cell_type": "markdown",
   "id": "d55cd385",
   "metadata": {},
   "source": [
    "### Pseudocode\n",
    "What I need this function to do\n",
    "\n",
    "\n",
    "Given:\n",
    "- Geometry of a molecule\n",
    "- Charge and spin multiplicity of a molecule ?\n",
    "- Basis set\n",
    "- Max iterations/cycles, memory and convergence criterion\n",
    "\n",
    "Returns:\n",
    "- Ground state RHF energy\n",
    "- Maybe: Number of iterations, intermediate energies prior to convergence, delta E after each cycle? \n",
    "- Maybe: spin? to check for spin contamination??\n",
    "\n",
    "##### Algorithm\n",
    "Given initial settings (geom, charge, spin, basis=\"\",max_it = 50, mem=#,energy_tol=#), calculate\n",
    "- Overlap matrix S\n",
    "- Core hamiltonian: H = T + V\n",
    "- Initial transformed Fock mat F'\n",
    "- Initial transformed orbital coeff mat C' and density mat P\n",
    "\n",
    "- Nuclear repulsion energy E$_{nuc}$ !!\n",
    "\n",
    "SCF procedure\n",
    "\n",
    "For iterations < max iteration, and for delta_energy > tol : \n",
    "\n",
    "1. Build fock matrix F\n",
    "\n",
    "    i. build coloumb matrix J, exchange matrix K\n",
    "    \n",
    "    ii. F = H + J - (1/2)K\n",
    "   \n",
    "   \n",
    "2. Find energy: F'C' = C'$\\epsilon$ ; E$_{total}$ = E$_{elec}$ + E$_{nuc}$\n",
    "\n",
    "\n",
    "3. Check for convergence: dE > tol ? \n",
    "\n",
    "    i. if converged, return energy, break\n",
    "    \n",
    "    ii. if iteration # = max_iteration, break\n",
    "    \n",
    "    \n",
    "4. Else: make a new guess\n",
    "\n",
    "    i. need new transformed fock mat F', new orbital coeff mat C' and new density mat P"
   ]
  },
  {
   "cell_type": "code",
   "execution_count": null,
   "id": "0ef7e57d",
   "metadata": {},
   "outputs": [],
   "source": []
  }
 ],
 "metadata": {
  "kernelspec": {
   "display_name": "Python 3 (ipykernel)",
   "language": "python",
   "name": "python3"
  },
  "language_info": {
   "codemirror_mode": {
    "name": "ipython",
    "version": 3
   },
   "file_extension": ".py",
   "mimetype": "text/x-python",
   "name": "python",
   "nbconvert_exporter": "python",
   "pygments_lexer": "ipython3",
   "version": "3.9.13"
  }
 },
 "nbformat": 4,
 "nbformat_minor": 5
}
